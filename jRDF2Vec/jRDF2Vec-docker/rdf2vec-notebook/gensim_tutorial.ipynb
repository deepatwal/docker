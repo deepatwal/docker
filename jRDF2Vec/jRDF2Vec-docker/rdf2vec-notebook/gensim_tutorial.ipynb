{
 "cells": [
  {
   "cell_type": "markdown",
   "metadata": {},
   "source": [
    "# imports"
   ]
  },
  {
   "cell_type": "code",
   "execution_count": 1,
   "metadata": {},
   "outputs": [],
   "source": [
    "from gensim.parsing import preprocessing"
   ]
  },
  {
   "cell_type": "code",
   "execution_count": 2,
   "metadata": {},
   "outputs": [],
   "source": [
    "text_corpus = [\n",
    "    \"Human machine interface for lab abc computer applications\",\n",
    "    \"A survey of user opinion of computer system response time\",\n",
    "    \"The EPS user interface management system\",\n",
    "    \"System and human system engineering testing of EPS\",\n",
    "    \"Relation of user perceived response time to error measurement\",\n",
    "    \"The generation of random binary unordered trees\",\n",
    "    \"The intersection graph of paths in trees\",\n",
    "    \"Graph minors IV Widths of trees and well quasi ordering\",\n",
    "    \"Graph minors A survey\",\n",
    "]"
   ]
  },
  {
   "cell_type": "code",
   "execution_count": 3,
   "metadata": {},
   "outputs": [],
   "source": [
    "# stoplist = []\n",
    "# preprocessing.STOPWORDS"
   ]
  },
  {
   "cell_type": "code",
   "execution_count": 1,
   "metadata": {},
   "outputs": [
    {
     "name": "stdout",
     "output_type": "stream",
     "text": [
      "{\"model\":\"codellama:34b\",\"created_at\":\"2024-04-18T23:19:25.812740204Z\",\"response\":\"\\n\",\"done\":false}\n",
      "{\"model\":\"codellama:34b\",\"created_at\":\"2024-04-18T23:19:26.126692571Z\",\"response\":\"The\",\"done\":false}\n",
      "{\"model\":\"codellama:34b\",\"created_at\":\"2024-04-18T23:19:26.449369774Z\",\"response\":\" sky\",\"done\":false}\n",
      "{\"model\":\"codellama:34b\",\"created_at\":\"2024-04-18T23:19:26.783051625Z\",\"response\":\" appears\",\"done\":false}\n",
      "{\"model\":\"codellama:34b\",\"created_at\":\"2024-04-18T23:19:27.122793058Z\",\"response\":\" blue\",\"done\":false}\n",
      "{\"model\":\"codellama:34b\",\"created_at\":\"2024-04-18T23:19:27.453384785Z\",\"response\":\" because\",\"done\":false}\n",
      "{\"model\":\"codellama:34b\",\"created_at\":\"2024-04-18T23:19:27.780983148Z\",\"response\":\" of\",\"done\":false}\n",
      "{\"model\":\"codellama:34b\",\"created_at\":\"2024-04-18T23:19:28.12474476Z\",\"response\":\" a\",\"done\":false}\n",
      "{\"model\":\"codellama:34b\",\"created_at\":\"2024-04-18T23:19:28.476535871Z\",\"response\":\" phenomen\",\"done\":false}\n",
      "{\"model\":\"codellama:34b\",\"created_at\":\"2024-04-18T23:19:28.822004314Z\",\"response\":\"on\",\"done\":false}\n",
      "{\"model\":\"codellama:34b\",\"created_at\":\"2024-04-18T23:19:29.168350388Z\",\"response\":\" called\",\"done\":false}\n",
      "^C\n"
     ]
    }
   ],
   "source": [
    "! curl -X POST http://localhost:11434/api/generate -d \\\n",
    "'{ \\\n",
    "    \"model\": \"codellama:34b\", \\\n",
    "    \"prompt\": \"Why is the sky blue?\" \\\n",
    "}' \\"
   ]
  },
  {
   "cell_type": "code",
   "execution_count": 8,
   "metadata": {},
   "outputs": [],
   "source": [
    "# ! curl http://localhost:11434/api/chat -d '{ \\\n",
    "#   \"model\": \"codellama:34b\", \\\n",
    "#   \"messages\": [ \\\n",
    "#     { \"role\": \"user\", \"content\": \"why is the sky blue?\" } \\\n",
    "#   ] \\\n",
    "# }' \\"
   ]
  },
  {
   "cell_type": "code",
   "execution_count": null,
   "metadata": {},
   "outputs": [],
   "source": []
  }
 ],
 "metadata": {
  "kernelspec": {
   "display_name": "jRDF2Vec-env",
   "language": "python",
   "name": "python3"
  },
  "language_info": {
   "codemirror_mode": {
    "name": "ipython",
    "version": 3
   },
   "file_extension": ".py",
   "mimetype": "text/x-python",
   "name": "python",
   "nbconvert_exporter": "python",
   "pygments_lexer": "ipython3",
   "version": "3.10.12"
  }
 },
 "nbformat": 4,
 "nbformat_minor": 2
}
