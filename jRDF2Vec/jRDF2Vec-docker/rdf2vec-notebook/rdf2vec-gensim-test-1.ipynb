{
 "cells": [
  {
   "cell_type": "markdown",
   "metadata": {},
   "source": [
    "# imports"
   ]
  },
  {
   "cell_type": "code",
   "execution_count": 5,
   "metadata": {},
   "outputs": [],
   "source": [
    "import os\n",
    "from gensim.models import KeyedVectors"
   ]
  },
  {
   "cell_type": "markdown",
   "metadata": {},
   "source": [
    "# creating a gensim model"
   ]
  },
  {
   "cell_type": "code",
   "execution_count": 6,
   "metadata": {},
   "outputs": [],
   "source": [
    "kv_file = os.path.join(\"/home/illusion/projects/docker/jRDF2Vec/jRDF2Vec-docker\", \"test\", \"test-1\", \"walks\", \"model.kv\")"
   ]
  },
  {
   "cell_type": "code",
   "execution_count": 7,
   "metadata": {},
   "outputs": [
    {
     "data": {
      "text/plain": [
       "154"
      ]
     },
     "execution_count": 7,
     "metadata": {},
     "output_type": "execute_result"
    }
   ],
   "source": [
    "words_vectors = KeyedVectors.load(kv_file, mmap='r')\n",
    "len(words_vectors.key_to_index)"
   ]
  },
  {
   "cell_type": "markdown",
   "metadata": {},
   "source": [
    "# exploring vocabulary"
   ]
  },
  {
   "cell_type": "code",
   "execution_count": 8,
   "metadata": {},
   "outputs": [
    {
     "data": {
      "text/plain": [
       "{'http://dbpedia.org/resource/Mumbai': 0,\n",
       " 'http://www.w3.org/2000/01/rdf-schema#seeAlso': 1,\n",
       " 'http://dbpedia.org/resource/State_Bank_of_India': 2,\n",
       " 'http://dbpedia.org/ontology/location': 3,\n",
       " 'http://dbpedia.org/ontology/isPartOf': 4,\n",
       " 'http://dbpedia.org/ontology/parentCompany': 5,\n",
       " 'http://dbpedia.org/ontology/city': 6,\n",
       " 'http://dbpedia.org/ontology/product': 7,\n",
       " 'http://dbpedia.org/resource/Mumbai_Nagpur_Expressway': 8,\n",
       " 'http://dbpedia.org/resource/SBI_Life_Insurance_Company': 9,\n",
       " 'http://dbpedia.org/resource/Andhra_Pradesh_Grameena_Vikas_Bank': 10,\n",
       " 'http://dbpedia.org/ontology/type': 11,\n",
       " 'http://dbpedia.org/ontology/owner': 12,\n",
       " 'http://xmlns.com/foaf/0.1/homepage': 13,\n",
       " 'http://dbpedia.org/resource/Mumbai_Football_Arena': 14,\n",
       " 'http://dbpedia.org/resource/Mumbai_Tennis_Masters': 15,\n",
       " 'http://dbpedia.org/resource/Mumbai_Angels': 16,\n",
       " 'http://dbpedia.org/ontology/owningCompany': 17,\n",
       " 'http://dbpedia.org/ontology/tenant': 18,\n",
       " 'http://dbpedia.org/resource/Grit,_Guts_and_Gumption': 19,\n",
       " 'http://dbpedia.org/resource/Air_India_Building': 20,\n",
       " 'http://dbpedia.org/resource/SBI_Cards': 21,\n",
       " 'http://dbpedia.org/resource/State_Bank_of_Mysore': 22,\n",
       " 'http://dbpedia.org/ontology/nonFictionSubject': 23,\n",
       " 'http://dbpedia.org/resource/State_Bank_of_Hyderabad': 24,\n",
       " 'http://dbpedia.org/ontology/successor': 25,\n",
       " 'http://dbpedia.org/resource/Imperial_Bank_of_India': 26,\n",
       " 'http://dbpedia.org/resource/India': 27,\n",
       " 'http://dbpedia.org/ontology/routeStart': 28,\n",
       " 'http://dbpedia.org/ontology/country': 29,\n",
       " 'http://dbpedia.org/resource/Konkani_language': 30,\n",
       " 'http://dbpedia.org/ontology/timeZone': 31,\n",
       " 'http://dbpedia.org/resource/Indian_Standard_Time': 32,\n",
       " 'http://dbpedia.org/resource/List_of_Mumbai_radio_stations': 33,\n",
       " 'http://dbpedia.org/ontology/governingBody': 34,\n",
       " 'http://dbpedia.org/resource/Navi_Mumbai': 35,\n",
       " 'http://dbpedia.org/resource/Maharashtra': 36,\n",
       " 'http://dbpedia.org/resource/Municipal_Corporation_of_Greater_Mumbai': 37,\n",
       " 'http://dbpedia.org/resource/List_of_educational_institutions': 38,\n",
       " 'http://www.mcgm.gov.in': 39,\n",
       " 'http://dbpedia.org/resource/Heritage_structures': 40,\n",
       " 'http://dbpedia.org/resource/South_Mumbai': 41,\n",
       " 'http://dbpedia.org/resource/Mumbai_Suburban_District': 42,\n",
       " \"http://dbpedia.org/resource/Mumbai's_water_sources\": 43,\n",
       " 'http://dbpedia.org/ontology/leaderParty': 44,\n",
       " 'http://dbpedia.org/resource/Shiv_Sena': 45,\n",
       " 'http://dbpedia.org/resource/Megacity': 46,\n",
       " 'http://dbpedia.org/resource/Marathi_language': 47,\n",
       " 'http://dbpedia.org/resource/Growth_of_Mumbai': 48,\n",
       " 'http://dbpedia.org/ontology/leaderName': 49,\n",
       " 'http://dbpedia.org/resource/Snehal_Ambekar': 50,\n",
       " 'http://dbpedia.org/ontology/governmentType': 51,\n",
       " 'http://dbpedia.org/resource/Mayor?council_government': 52,\n",
       " 'http://dbpedia.org/resource/Mumbai_City_district': 53,\n",
       " 'http://dbpedia.org/resource/Host_Hotels_&_Resorts': 54,\n",
       " 'http://dbpedia.org/resource/Financial_services': 55,\n",
       " 'http://dbpedia.org/resource/Government_of_India': 56,\n",
       " 'http://dbpedia.org/ontology/starring': 57,\n",
       " 'http://dbpedia.org/ontology/industry': 58,\n",
       " 'http://dbpedia.org/resource/Illinois_Tool_Works': 59,\n",
       " 'http://dbpedia.org/resource/Securities': 60,\n",
       " 'http://dbpedia.org/resource/Wealth_management': 61,\n",
       " 'http://dbpedia.org/resource/Mortgage_loan': 62,\n",
       " 'http://sbi.co.in/': 63,\n",
       " 'http://dbpedia.org/resource/Retail_banking': 64,\n",
       " 'http://dbpedia.org/resource/Private_equity': 65,\n",
       " 'http://dbpedia.org/resource/Private_banking': 66,\n",
       " 'http://dbpedia.org/resource/Arundhati_Bhattacharya': 67,\n",
       " 'http://dbpedia.org/resource/Asset_management': 68,\n",
       " 'http://dbpedia.org/resource/Commercial_bank': 69,\n",
       " 'http://dbpedia.org/ontology/keyPerson': 70,\n",
       " 'http://dbpedia.org/resource/Investment_banking': 71,\n",
       " 'http://dbpedia.org/resource/Mumbai-Pune-Mumbai_2': 72,\n",
       " 'http://www.w3.org/2002/07/owl#sameAs': 73,\n",
       " 'http://dbpedia.org/resource/United_States': 74,\n",
       " 'http://dbpedia.org/resource/Bethesda,_Maryland': 75,\n",
       " 'http://dbpedia.org/resource/Public_company': 76,\n",
       " 'http://dbpedia.org/resource/Mumbai_Can_Dance_Saala': 77,\n",
       " 'http://dbpedia.org/resource/Grand_Hyatt_Washington': 78,\n",
       " 'http://www.hosthotels.com': 79,\n",
       " 'http://dbpedia.org/resource/Mumbai_Mast_Kallander': 80,\n",
       " 'https://www.wikidata.org/wiki/Q562107': 81,\n",
       " 'http://dbpedia.org/resource/SQM': 82,\n",
       " 'http://dbpedia.org/resource/Mumbai_Delhi_Mumbai': 83,\n",
       " 'http://dbpedia.org/resource/The_Westin_New_York_Grand_Central_Hotel': 84,\n",
       " 'http://dbpedia.org/resource/Manchester_Grand_Hyatt_Hotel': 85,\n",
       " 'http://dbpedia.org/resource/Mumbai_Taxi': 86,\n",
       " 'http://dbpedia.org/resource/San_Diego_Marriott_Marquis_&_Marina': 87,\n",
       " 'http://dbpedia.org/resource/Satish_Rajwade': 88,\n",
       " 'http://dbpedia.org/resource/Mumbai-Pune-Mumbai_2__Mumbai_Pune_Mumbai_2__1': 89,\n",
       " 'http://dbpedia.org/resource/Hotel_Arts': 90,\n",
       " 'http://dbpedia.org/resource/San_Francisco_Marriott_Marquis': 91,\n",
       " 'http://itw.com': 92,\n",
       " 'http://dbpedia.org/resource/Manufacturing': 93,\n",
       " 'http://dbpedia.org/resource/Glenview,_Cook_County,_Illinois': 94,\n",
       " 'http://dbpedia.org/ontology/language': 95,\n",
       " 'http://dbpedia.org/resource/Miller_Electric': 96,\n",
       " 'http://dbpedia.org/resource/M&C_Specialties': 97,\n",
       " 'http://dbpedia.org/ontology/writer': 98,\n",
       " 'http://dbpedia.org/resource/Hobart_Corporation': 99,\n",
       " 'http://dbpedia.org/resource/Nagpur': 100,\n",
       " 'http://dbpedia.org/ontology/genre': 101,\n",
       " \"http://dbpedia.org/resource/State_Bank_of_India_Officers'_Association\": 102,\n",
       " 'http://dbpedia.org/resource/Raj_Shekhar': 103,\n",
       " 'http://dbpedia.org/ontology/director': 104,\n",
       " 'http://dbpedia.org/resource/Aurangabad,_Maharashtra': 105,\n",
       " 'http://dbpedia.org/resource/Quadrangle_Development_Corp.': 106,\n",
       " 'http://dbpedia.org/resource/Classmates_(2015_film)': 107,\n",
       " 'http://dbpedia.org/ontology/stadium': 108,\n",
       " 'http://dbpedia.org/resource/Film_soundtrack': 109,\n",
       " 'http://dbpedia.org/resource/Gazal': 110,\n",
       " 'http://dbpedia.org/resource/Champions_Tennis_League': 111,\n",
       " 'http://dbpedia.org/ontology/league': 112,\n",
       " 'http://dbpedia.org/ontology/developer': 113,\n",
       " 'http://dbpedia.org/resource/RTKL_Associates': 114,\n",
       " 'http://dbpedia.org/ontology/architect': 115,\n",
       " 'http://dbpedia.org/resource/Hyatt_Hotels_Corporation': 116,\n",
       " 'http://xmlns.com/foaf/0.1/depiction': 117,\n",
       " 'https://www.facebook.com/APGVB.WARANGAL/photos/pb.1386354658350958': 118,\n",
       " 'http://dbpedia.org/resource/Regional_Rural_Bank': 119,\n",
       " 'http://dbpedia.org/ontology/locationCountry': 120,\n",
       " 'http://dbpedia.org/resource/Farhan_Akhtar': 121,\n",
       " 'http://www.apgvbank.in/': 122,\n",
       " 'http://dbpedia.org/resource/Amravati': 123,\n",
       " 'http://dbpedia.org/ontology/routeEnd': 124,\n",
       " 'http://dbpedia.org/ontology/previousWork': 125,\n",
       " 'http://dbpedia.org/resource/Shakti_Kapoor': 126,\n",
       " 'http://www.mumbaiangels.com': 127,\n",
       " 'http://dbpedia.org/resource/Shiv_Pandit': 128,\n",
       " 'http://dbpedia.org/resource/Tini_Tom': 129,\n",
       " 'http://dbpedia.org/resource/Shilpa_Shukla': 130,\n",
       " 'http://dbpedia.org/resource/Rajesh_Vivek': 131,\n",
       " 'http://dbpedia.org/resource/Shankar_Sachdev': 132,\n",
       " 'http://dbpedia.org/resource/Kalina_Stadium': 133,\n",
       " 'http://dbpedia.org/resource/Sreejith_Ravi': 134,\n",
       " 'http://dbpedia.org/resource/Malayalam': 135,\n",
       " 'http://dbpedia.org/resource/Brihanmumbai_Municipal_Corporation': 136,\n",
       " 'http://dbpedia.org/resource/Veera_Desai_Road': 137,\n",
       " 'http://dbpedia.org/resource/Andheri': 138,\n",
       " 'http://dbpedia.org/resource/Piaa_Bajpai': 139,\n",
       " 'http://dbpedia.org/ontology/distributor': 140,\n",
       " 'http://dbpedia.org/resource/Venture_capital': 141,\n",
       " 'http://dbpedia.org/resource/Eros_International': 142,\n",
       " 'http://dbpedia.org/resource/Prashant_Damle': 143,\n",
       " 'http://dbpedia.org/resource/Swapnil_Joshi': 144,\n",
       " 'http://dbpedia.org/resource/Mukta_Barve': 145,\n",
       " 'http://dbpedia.org/ontology/musicComposer': 146,\n",
       " 'http://dbpedia.org/resource/Bappi_Lahiri': 147,\n",
       " 'http://dbpedia.org/resource/Rakhi_Sawant': 148,\n",
       " 'http://dbpedia.org/resource/Prashant_Narayanan': 149,\n",
       " 'http://dbpedia.org/resource/Aditya_Pancholi': 150,\n",
       " 'http://dbpedia.org/resource/Hindi': 151,\n",
       " 'http://www.sbioachd.org': 152,\n",
       " 'http://dbpedia.org/resource/Shivaji_Guruvayoor': 153}"
      ]
     },
     "execution_count": 8,
     "metadata": {},
     "output_type": "execute_result"
    }
   ],
   "source": [
    "# check the word in vocabulary and the corresponding index\n",
    "words_vectors.key_to_index"
   ]
  },
  {
   "cell_type": "code",
   "execution_count": 9,
   "metadata": {},
   "outputs": [
    {
     "data": {
      "text/plain": [
       "'http://dbpedia.org/resource/State_Bank_of_India'"
      ]
     },
     "execution_count": 9,
     "metadata": {},
     "output_type": "execute_result"
    }
   ],
   "source": [
    "# access the word in vocabulary that corresponds to a particular index\n",
    "word_at_index = words_vectors.index_to_key[2]\n",
    "word_at_index"
   ]
  },
  {
   "cell_type": "code",
   "execution_count": 34,
   "metadata": {},
   "outputs": [
    {
     "data": {
      "text/plain": [
       "2"
      ]
     },
     "execution_count": 34,
     "metadata": {},
     "output_type": "execute_result"
    }
   ],
   "source": [
    "# access index in vocabulary that corresponds to a particular word\n",
    "index_of_word = words_vectors.key_to_index['http://dbpedia.org/resource/State_Bank_of_India']\n",
    "index_of_word"
   ]
  },
  {
   "cell_type": "markdown",
   "metadata": {},
   "source": [
    "# similarity"
   ]
  },
  {
   "cell_type": "code",
   "execution_count": 36,
   "metadata": {},
   "outputs": [
    {
     "data": {
      "text/plain": [
       "[('https://www.wikidata.org/wiki/Q562107', 0.757351279258728),\n",
       " ('http://dbpedia.org/resource/Illinois_Tool_Works', 0.7188236117362976),\n",
       " ('http://www.w3.org/2002/07/owl#sameAs', 0.7184895873069763),\n",
       " ('http://dbpedia.org/resource/SQM', 0.7109553813934326),\n",
       " ('http://dbpedia.org/resource/Bethesda,_Maryland', 0.7026097178459167)]"
      ]
     },
     "execution_count": 36,
     "metadata": {},
     "output_type": "execute_result"
    }
   ],
   "source": [
    "words_vectors.most_similar(positive=['http://dbpedia.org/resource/State_Bank_of_India'], topn=5)"
   ]
  },
  {
   "cell_type": "code",
   "execution_count": null,
   "metadata": {},
   "outputs": [],
   "source": []
  }
 ],
 "metadata": {
  "kernelspec": {
   "display_name": "python-3.9",
   "language": "python",
   "name": "python3"
  },
  "language_info": {
   "codemirror_mode": {
    "name": "ipython",
    "version": 3
   },
   "file_extension": ".py",
   "mimetype": "text/x-python",
   "name": "python",
   "nbconvert_exporter": "python",
   "pygments_lexer": "ipython3",
   "version": "3.9.6"
  }
 },
 "nbformat": 4,
 "nbformat_minor": 2
}
